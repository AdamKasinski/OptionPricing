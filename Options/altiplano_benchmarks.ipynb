{
 "cells": [
  {
   "cell_type": "code",
   "execution_count": 5,
   "metadata": {},
   "outputs": [
    {
     "data": {
      "text/plain": [
       "altiplano_option_monte_carlo (generic function with 2 methods)"
      ]
     },
     "metadata": {},
     "output_type": "display_data"
    }
   ],
   "source": [
    "include(\"altiplano_option.jl\")"
   ]
  },
  {
   "cell_type": "code",
   "execution_count": 6,
   "metadata": {},
   "outputs": [
    {
     "name": "stdout",
     "output_type": "stream",
     "text": [
      "basic mean : 0.7024434285133865 length: 0.07241038238304098\n",
      "antithetic mean : 0.7015513507868945 length_antithetic: 0.017173408504163157\n",
      "quasi mean : 2.023070887469945 length: 0.0\n",
      "moment matching mean : 0.0 length_antithetic: 0.0\n",
      "LHS mean : 1.1160640387968574 length_antithetic: 0.0021491171052312463\n"
     ]
    }
   ],
   "source": [
    "cov_matrix = [1.0 0.3 0.4; 0.3 1.0 0.1; 0.4 0.1 1.0] \n",
    "\n",
    "normal = [altiplano_option_monte_carlo(1000,0.05,10,0.9,0.01,10.0,10.0,[1,3,7],3,[10.0,10.0,10.0],[0.07,0.07,0.07],[0.06,0.05,0.09],cov_matrix,\"basic\") for i in 1:10]\n",
    "antithetic = [altiplano_option_monte_carlo(1000,0.05,10,0.9,0.01,10.0,10.0,[1,3,7],3,[10.0,10.0,10.0],[0.07,0.07,0.07],[0.06,0.05,0.09],cov_matrix,\"antithetic\") for i in 1:10]\n",
    "quasi = [altiplano_option_monte_carlo(1000,0.05,10,0.9,0.01,10.0,10.0,[1,3,7],3,[10.0,10.0,10.0],[0.07,0.07,0.07],[0.06,0.05,0.09],cov_matrix,\"quasi_monte_carlo\") for i in 1:10]\n",
    "moment_matching = [altiplano_option_monte_carlo(1000,0.05,10,0.9,0.01,10.0,10.0,[1,3,7],3,[10.0,10.0,10.0],[0.07,0.07,0.07],[0.06,0.05,0.09],cov_matrix,\"moment_matching\") for i in 1:10]\n",
    "LHS = [altiplano_option_monte_carlo(1000,0.05,10,0.9,0.01,10.0,10.0,[1,3,7],3,[10.0,10.0,10.0],[0.07,0.07,0.07],[0.06,0.05,0.09],cov_matrix,\"LHS\") for i in 1:10]\n",
    "\n",
    "mean_elements = mean([normal[i][1] for i in eachindex(normal)])\n",
    "bottom_elements = mean([normal[i][2] for i in eachindex(normal)])\n",
    "upper_elements = mean([normal[i][3] for i in eachindex(normal)])\n",
    "\n",
    "mean_antithetic = mean([antithetic[i][1] for i in eachindex(antithetic)])\n",
    "bottom_antithetic = mean([antithetic[i][2] for i in eachindex(antithetic)])\n",
    "upper_antithetic = mean([antithetic[i][3] for i in eachindex(antithetic)])\n",
    "\n",
    "mean_quasi = mean([quasi[i][1] for i in eachindex(quasi)])\n",
    "bottom_quasi = mean([quasi[i][2] for i in eachindex(quasi)])\n",
    "upper_quasi = mean([quasi[i][3] for i in eachindex(quasi)])\n",
    "\n",
    "mean_moment_matching = mean([moment_matching[i][1] for i in eachindex(moment_matching)])\n",
    "bottom_moment_matching = mean([moment_matching[i][2] for i in eachindex(moment_matching)])\n",
    "upper_moment_matching = mean([moment_matching[i][3] for i in eachindex(moment_matching)])\n",
    "\n",
    "mean_LHS = mean([LHS[i][1] for i in eachindex(LHS)])\n",
    "bottom_LHS = mean([LHS[i][2] for i in eachindex(LHS)])\n",
    "upper_LHS = mean([LHS[i][3] for i in eachindex(LHS)])\n",
    "\n",
    "length_normal = upper_elements-bottom_elements\n",
    "length_antithetic = upper_antithetic - bottom_antithetic\n",
    "length_quasi = upper_quasi-bottom_quasi\n",
    "length_moment_matching = upper_moment_matching - bottom_moment_matching\n",
    "length_LHS = upper_LHS-bottom_LHS\n",
    "\n",
    "\n",
    "println(\"basic mean : $mean_elements length: $length_normal\")\n",
    "println(\"antithetic mean : $mean_antithetic length_antithetic: $length_antithetic\")\n",
    "println(\"quasi mean : $mean_quasi length: $length_quasi\")\n",
    "println(\"moment matching mean : $mean_moment_matching length_antithetic: $length_moment_matching\")\n",
    "println(\"LHS mean : $mean_LHS length_antithetic: $length_LHS\")"
   ]
  }
 ],
 "metadata": {
  "kernelspec": {
   "display_name": "Julia 1.8.2",
   "language": "julia",
   "name": "julia-1.8"
  },
  "language_info": {
   "file_extension": ".jl",
   "mimetype": "application/julia",
   "name": "julia",
   "version": "1.8.2"
  },
  "orig_nbformat": 4
 },
 "nbformat": 4,
 "nbformat_minor": 2
}
