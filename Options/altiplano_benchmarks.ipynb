{
 "cells": [
  {
   "cell_type": "code",
   "execution_count": 1,
   "metadata": {},
   "outputs": [],
   "source": [
    "using Plots"
   ]
  },
  {
   "cell_type": "code",
   "execution_count": 1,
   "metadata": {},
   "outputs": [
    {
     "data": {
      "text/plain": [
       "altiplano_option_monte_carlo (generic function with 2 methods)"
      ]
     },
     "metadata": {},
     "output_type": "display_data"
    }
   ],
   "source": [
    "include(\"altiplano_option.jl\")"
   ]
  },
  {
   "cell_type": "code",
   "execution_count": 2,
   "metadata": {},
   "outputs": [
    {
     "data": {
      "text/plain": [
       "plot_bar_plot (generic function with 1 method)"
      ]
     },
     "metadata": {},
     "output_type": "display_data"
    }
   ],
   "source": [
    "function compare_variance(num_of_sim::Int, α::Float64, T::Int, N::Int, treshold::Float64, r::Float64, K::Float64, \n",
    "                        C::Float64, basket_volume::Int, S₀::Array{Float64},  \n",
    "                        sigma::Array{Float64}, correlation_matrix::Matrix{Float64})\n",
    "    \n",
    "        normal = altiplano_option_monte_carlo(num_of_sim, α, T, N, treshold, r, K, C, basket_volume, S₀, sigma, \n",
    "                                                correlation_matrix,\"basic\")\n",
    "        antithetic = altiplano_option_monte_carlo(num_of_sim, α, T, N, treshold, r, K, C, basket_volume, S₀,   \n",
    "                                                sigma, correlation_matrix,\"antithetic\")\n",
    "        quasi = altiplano_option_monte_carlo(num_of_sim, α, T, N, treshold, r, K, C, basket_volume, S₀, sigma, \n",
    "                                                correlation_matrix, \"quasi_monte_carlo\")\n",
    "        moment_matching = price_altiplano_moment_matching(num_of_sim, α, T, N, treshold, r, K, C, basket_volume, S₀, \n",
    "                                                          sigma, correlation_matrix) \n",
    "        LHS = altiplano_option_monte_carlo(num_of_sim, α, T, N, treshold, r, K, C, basket_volume, S₀,   \n",
    "                                                        sigma, correlation_matrix,\"LHS\")\n",
    "    \n",
    "        mean_elements = normal[1]\n",
    "        bottom_elements = normal[2]\n",
    "        upper_elements = normal[3]\n",
    "    \n",
    "        mean_antithetic = antithetic[1]\n",
    "        bottom_antithetic = antithetic[2]\n",
    "        upper_antithetic = antithetic[3]\n",
    "    \n",
    "        mean_quasi = quasi\n",
    "    \n",
    "        mean_moment_matching = moment_matching[1]\n",
    "        bottom_moment_matching = moment_matching[2]\n",
    "        upper_moment_matching = moment_matching[3]\n",
    "    \n",
    "        mean_LHS = LHS[1]\n",
    "        bottom_LHS = LHS[2]\n",
    "        upper_LHS = LHS[3]\n",
    "    \n",
    "        length_normal = upper_elements-bottom_elements\n",
    "        length_antithetic = upper_antithetic - bottom_antithetic\n",
    "        length_moment_matching = upper_moment_matching - bottom_moment_matching\n",
    "        length_LHS = upper_LHS-bottom_LHS\n",
    "    \n",
    "        return [mean_elements, mean_antithetic, mean_moment_matching, mean_LHS, mean_quasi, \n",
    "                length_normal, length_antithetic, length_moment_matching, length_LHS]\n",
    "    end\n",
    "    \n",
    "    function num_of_sims(num_of_sims::Array{Int},α::Float64, T::Int, N::Int, treshold::Float64, r::Float64, \n",
    "        K::Float64, C::Float64, basket_volume::Int, S₀::Array{Float64},  sigma::Array{Float64}, \n",
    "        correlation_matrix::Matrix{Float64})\n",
    "    \n",
    "        results::Matrix{Float64} = zeros(length(num_of_sims), 9)\n",
    "        for (ind, num_of_sim) in enumerate(num_of_sims)\n",
    "            results[ind,:] = compare_variance(num_of_sim,α, T, N, treshold, r, K, C, basket_volume, \n",
    "                                                S₀, sigma, correlation_matrix)\n",
    "        end\n",
    "    \n",
    "        return results\n",
    "    \n",
    "    end \n",
    "    \n",
    "    function mu_value(num_of_sims::Int,α::Float64, T::Int, N::Int, treshold::Float64, r::Float64, \n",
    "                    K::Float64, C::Float64, basket_volume::Int, S₀::Array{Float64}, \n",
    "                     sigma::Array{Float64}, correlation_matrix::Matrix{Float64})\n",
    "    \n",
    "    \n",
    "        results::Matrix{Float64} = zeros(length(mu), 9)\n",
    "        for (ind, m) in enumerate(mu)\n",
    "            results[ind,:] = compare_variance(num_of_sims,α, T, N, treshold, r, K, C, \n",
    "                            basket_volume, S₀, [m for i in 1:basket_volume], sigma, correlation_matrix)\n",
    "        end\n",
    "    \n",
    "        return results\n",
    "    \n",
    "    end\n",
    "    \n",
    "    function interest_rate(num_of_sims::Int,α::Float64, T::Int, N::Int, treshold::Float64, rs::Array{Float64}, \n",
    "                            K::Float64, C::Float64, basket_volume::Int, S₀::Array{Float64},  \n",
    "                            sigma::Array{Float64}, correlation_matrix::Matrix{Float64})\n",
    "    \n",
    "    \n",
    "        results::Matrix{Float64} = zeros(length(rs), 9)\n",
    "        for (ind, r) in enumerate(rs)\n",
    "            results[ind,:] = compare_variance(num_of_sims,α, T, N, treshold, r, K, C, basket_volume, S₀,   \n",
    "                                                        sigma, correlation_matrix)\n",
    "        end\n",
    "    \n",
    "        return results\n",
    "    \n",
    "    end \n",
    "    \n",
    "    \n",
    "    function treshold(num_of_sims::Int,α::Float64, T::Int, N::Int, tresholds::Array{Float64}, r::Float64, K::Float64, \n",
    "        C::Float64, basket_volume::Int, S₀::Array{Float64},  sigma::Array{Float64}, \n",
    "        correlation_matrix::Matrix{Float64})\n",
    "    \n",
    "    \n",
    "        results::Matrix{Float64} = zeros(length(tresholds), 9)\n",
    "        for (ind, treshold) in enumerate(tresholds)\n",
    "            results[ind,:] = compare_variance(num_of_sims,α, T, N, treshold, r, K, C, basket_volume, \n",
    "                                                S₀,   sigma, correlation_matrix)\n",
    "        end\n",
    "    \n",
    "        return results\n",
    "    \n",
    "    end \n",
    "    \n",
    "    \n",
    "    function maturity(num_of_sims::Int,α::Float64, T::Int, treshold::Float64, r::Float64, K::Float64, C::Float64, \n",
    "        basket_volume::Int, S₀::Array{Float64},sigma::Array{Float64},\n",
    "        correlation_matrix::Matrix{Float64})\n",
    "    \n",
    "    \n",
    "        results::Matrix{Float64} = zeros(T, 9)\n",
    "        for maturity in 1:T\n",
    "            results[maturity,:] = compare_variance(num_of_sims,α, maturity, maturity*250, treshold, r, \n",
    "                                                    K, C, basket_volume, S₀, sigma, correlation_matrix)\n",
    "        end\n",
    "    \n",
    "        return results\n",
    "    \n",
    "    end\n",
    "    \n",
    "    \n",
    "    function correlation(num_of_sims::Int,α::Float64, T::Int, N::Int64, treshold::Float64, r::Float64, \n",
    "        K::Float64, C::Float64, basket_volume::Int, S₀::Array{Float64},  sigma::Array{Float64})\n",
    "    \n",
    "        corr_matrices::Vector{Matrix{Float64}} = [[1.0 0.1 0.1; 0.1 1.0 0.1; 0.1 0.1 1.0], \n",
    "                                                    [1.0 0.5 0.4; 0.5 1.0 0.6; 0.4 0.6 1.0], \n",
    "                                                    [1.0 0.9 0.8; 0.9 1.0 0.7; 0.8 0.7 1.0]] \n",
    "    \n",
    "    \n",
    "        results::Matrix{Float64} = zeros(3, 9)\n",
    "        for correlation in eachindex(corr_matrices)\n",
    "            results[correlation,:] = compare_variance(num_of_sims,α, T, N, treshold, r, K, C, basket_volume, \n",
    "                                                    S₀,   sigma, corr_matrices[correlation])\n",
    "        end\n",
    "        return results\n",
    "    \n",
    "    end\n",
    "    \n",
    "    \n",
    "    function plot_variance(vals, variance, title, xlabel)\n",
    "        scatter(vals,variance, label = [\"normal\" \"antithetic\" \"moment_matching\" \"LHS\"], title = title, \n",
    "                legend = :outertop)\n",
    "        xlabel!(xlabel)\n",
    "        savefig(string(\"C:\\\\Users\\\\adama\\\\OneDrive\\\\Pulpit\\\\magisterka\\\\optionPricing\\\\graphs\\\\altiplano\\\\\", \n",
    "                title, \"_altiplano_\", \".svg\"))\n",
    "    end\n",
    "    \n",
    "    function plot_mean(vals, mean, title, xlabel)\n",
    "        scatter(vals, mean, label=[\"mean_elements\" \"mean_antithetic\" \"mean_moment_matching\" \"mean_LHS\" \"mean_quasi\"], \n",
    "                legend = :outertop)\n",
    "        title!(title)\n",
    "        xlabel!(xlabel)\n",
    "        savefig(string(\"C:\\\\Users\\\\adama\\\\OneDrive\\\\Pulpit\\\\magisterka\\\\optionPricing\\\\graphs\\\\altiplano\\\\\", \n",
    "                title,\"_altiplano_\", \".svg\"))\n",
    "    end\n",
    "    \n",
    "    function plot_bar_plot(results,name)\n",
    "        bar([\"słaba\", \"średnia\", \"silna\"],results,label=name,title=string(\"długość przedziału ~ korelacja dla metody \",name), \n",
    "                xlabel = \"siła korelacji między spółkami\", xticks = :all,legend=false, fmt = :svg)    \n",
    "        savefig(string(\"C:\\\\Users\\\\adama\\\\OneDrive\\\\Pulpit\\\\magisterka\\\\optionPricing\\\\graphs\\\\altiplano\\\\\", \n",
    "                name, \"_altiplano_\", \".svg\"))\n",
    "    end"
   ]
  },
  {
   "cell_type": "code",
   "execution_count": 3,
   "metadata": {},
   "outputs": [
    {
     "data": {
      "text/plain": [
       "3×3 Matrix{Float64}:\n",
       " 1.0  0.3  0.4\n",
       " 0.3  1.0  0.1\n",
       " 0.4  0.1  1.0"
      ]
     },
     "metadata": {},
     "output_type": "display_data"
    }
   ],
   "source": [
    "cov_matrix = [1.0 0.3 0.4; 0.3 1.0 0.1; 0.4 0.1 1.0] "
   ]
  },
  {
   "cell_type": "markdown",
   "metadata": {},
   "source": [
    "# Czas wykonania"
   ]
  },
  {
   "cell_type": "code",
   "execution_count": 29,
   "metadata": {},
   "outputs": [
    {
     "data": {
      "text/plain": [
       "compare_pricing_time (generic function with 1 method)"
      ]
     },
     "metadata": {},
     "output_type": "display_data"
    }
   ],
   "source": [
    "function compare_pricing_time(num_of_sim::Int, α::Float64, T::Int, N::Int, treshold::Float64, r::Float64, K::Float64, \n",
    "                                C::Float64, basket_volume::Int, S₀::Array{Float64},  \n",
    "                                sigma::Array{Float64}, correlation_matrix::Matrix{Float64})\n",
    "\n",
    "\n",
    "    t_normal = @elapsed [altiplano_option_monte_carlo(num_of_sim, α, T, N, treshold, r, K, C, basket_volume, S₀, sigma, \n",
    "                                                    correlation_matrix, \"basic\") for i in 1:1000]\n",
    "    t_antithetic = @elapsed  [altiplano_option_monte_carlo(num_of_sim, α, T, N, treshold, r, K, C, basket_volume, S₀, sigma, \n",
    "                                                     correlation_matrix,\"antithetic\") for i in 1:1000]\n",
    "    t_quasi_monte_carlo = @elapsed [altiplano_option_monte_carlo(num_of_sim, α, T, N, treshold, r, K, C, basket_volume, S₀, sigma, \n",
    "                                                    correlation_matrix, \"quasi_monte_carlo\") for i in 1:1000]\n",
    "    t_moment_matching = @elapsed [price_altiplano_moment_matching(num_of_sim, α, T, N, treshold, r, K, C, basket_volume, S₀, sigma, \n",
    "                                                correlation_matrix) for i in 1:1000] \n",
    "    t_LHS = @elapsed [altiplano_option_monte_carlo(num_of_sim, α, T, N, treshold, r, K, C, basket_volume, S₀, sigma, \n",
    "                                                    correlation_matrix, \"LHS\") for i in 1:1000]\n",
    "\n",
    "    return Dict(\"basic\" => t_normal, \"antithetic\" => t_antithetic, \"quasi_monte_carlo\" => t_quasi_monte_carlo,\n",
    "    \"moment_matching\" => t_moment_matching, \"LHS\" => t_LHS)\n",
    "end\n"
   ]
  },
  {
   "cell_type": "code",
   "execution_count": 30,
   "metadata": {},
   "outputs": [
    {
     "data": {
      "text/plain": [
       "Dict{String, Float64} with 5 entries:\n",
       "  \"moment_matching\"   => 242.075\n",
       "  \"LHS\"               => 307.098\n",
       "  \"basic\"             => 194.32\n",
       "  \"quasi_monte_carlo\" => 7.33623\n",
       "  \"antithetic\"        => 506.591"
      ]
     },
     "metadata": {},
     "output_type": "display_data"
    }
   ],
   "source": [
    "#time_of_execution = compare_pricing_time(1000,0.01,2,500,1.3,0.03,9.0,6.0,3,[10.0,10.0,10.0],[0.2,0.2,0.2], cov_matrix)"
   ]
  },
  {
   "cell_type": "code",
   "execution_count": 5,
   "metadata": {},
   "outputs": [
    {
     "data": {
      "text/plain": [
       "5-element Vector{Float64}:\n",
       " 3.3466598973798423\n",
       " 1.9827869341403856\n",
       " 2.8407042232048534\n",
       " 3.3198217285791594\n",
       " 5.4290245082157575"
      ]
     },
     "metadata": {},
     "output_type": "display_data"
    }
   ],
   "source": [
    "results = compare_variance(1000,0.01,2,500,1.3,0.05,9.0,6.0,3,[10.0,10.0,10.0],[0.2,0.2,0.2], cov_matrix)[1:5]\n",
    "results"
   ]
  },
  {
   "cell_type": "code",
   "execution_count": 6,
   "metadata": {},
   "outputs": [
    {
     "data": {
      "text/plain": [
       "4-element Vector{Float64}:\n",
       " -0.40753258623837346\n",
       " -0.15118228015075877\n",
       " -0.008019389368395328\n",
       "  0.6222217598107995"
      ]
     },
     "metadata": {},
     "output_type": "display_data"
    }
   ],
   "source": [
    "(results[2:5] .- results[1])./results[1]"
   ]
  },
  {
   "attachments": {},
   "cell_type": "markdown",
   "metadata": {},
   "source": [
    "# ilość symulacji"
   ]
  },
  {
   "cell_type": "code",
   "execution_count": 6,
   "metadata": {},
   "outputs": [
    {
     "data": {
      "text/plain": [
       "\"C:\\\\Users\\\\adama\\\\OneDrive\\\\Pulpit\\\\magisterka\\\\optionPricing\\\\graphs\\\\altiplano\\\\cena opcji ~ wielkość próby_altiplano_.svg\""
      ]
     },
     "metadata": {},
     "output_type": "display_data"
    }
   ],
   "source": [
    "n_of_sims = [100:10:2000;]\n",
    "sims::Matrix{Float64} = num_of_sims(n_of_sims,0.01,2,500,1.3,0.05,9.0,6.0,3,[10.0,10.0,10.0],[0.2,0.2,0.2], cov_matrix)\n",
    "variance = sims[:,6:end]\n",
    "plot_variance(n_of_sims,variance,\"długość przedziału ufności ~ wielkość próby\", \"wielkość próby\")\n",
    "means = sims[:,1:5]\n",
    "plot_mean(n_of_sims,means,\"cena opcji ~ wielkość próby\", \"wielkość próby\")"
   ]
  },
  {
   "attachments": {},
   "cell_type": "markdown",
   "metadata": {},
   "source": [
    "# Stopy procentowe"
   ]
  },
  {
   "cell_type": "code",
   "execution_count": 7,
   "metadata": {},
   "outputs": [
    {
     "data": {
      "text/plain": [
       "\"C:\\\\Users\\\\adama\\\\OneDrive\\\\Pulpit\\\\magisterka\\\\optionPricing\\\\graphs\\\\altiplano\\\\cena opcji ~ stopy procentowe_altiplano_.svg\""
      ]
     },
     "metadata": {},
     "output_type": "display_data"
    }
   ],
   "source": [
    "rs = [0.01:0.001:0.1;]\n",
    "sims_rs::Matrix{Float64} = interest_rate(1000,0.01,2,500,1.3,rs,9.0,6.0,3,[10.0,10.0,10.0],[0.2,0.2,0.2],cov_matrix)\n",
    "variance_rs = sims_rs[:,6:end]\n",
    "plot_variance(rs,variance_rs, \"długość przedziału ufności ~ stopy procentowe\", \"stopy procentowe\")\n",
    "means_rs = sims_rs[:,1:5]\n",
    "plot_mean(rs,means_rs, \"cena opcji ~ stopy procentowe\", \"stopy procentowe\")"
   ]
  },
  {
   "attachments": {},
   "cell_type": "markdown",
   "metadata": {},
   "source": [
    "# Próg"
   ]
  },
  {
   "cell_type": "code",
   "execution_count": 8,
   "metadata": {},
   "outputs": [
    {
     "data": {
      "text/plain": [
       "\"C:\\\\Users\\\\adama\\\\OneDrive\\\\Pulpit\\\\magisterka\\\\optionPricing\\\\graphs\\\\altiplano\\\\cena opcji ~ próg_altiplano_.svg\""
      ]
     },
     "metadata": {},
     "output_type": "display_data"
    }
   ],
   "source": [
    "tresholds = [0.8:0.01:2.0;]\n",
    "sims_tresholds::Matrix{Float64} = treshold(1000,0.01,2,500,tresholds,0.05,9.0,6.0,3,[10.0,10.0,10.0],[0.2,0.2,0.2],cov_matrix)\n",
    "variance_tresholds = sims_tresholds[:,6:end]\n",
    "plot_variance(tresholds,variance_tresholds, \"długość przedziału ufności ~ próg\", \"próg\")\n",
    "means_tresholds = sims_tresholds[:,1:5]\n",
    "plot_mean(tresholds,means_tresholds, \"cena opcji ~ próg\", \"próg\")"
   ]
  },
  {
   "attachments": {},
   "cell_type": "markdown",
   "metadata": {},
   "source": [
    "# Matura"
   ]
  },
  {
   "cell_type": "code",
   "execution_count": 9,
   "metadata": {},
   "outputs": [
    {
     "data": {
      "text/plain": [
       "\"C:\\\\Users\\\\adama\\\\OneDrive\\\\Pulpit\\\\magisterka\\\\optionPricing\\\\graphs\\\\altiplano\\\\cena opcji ~ matura_altiplano_.svg\""
      ]
     },
     "metadata": {},
     "output_type": "display_data"
    }
   ],
   "source": [
    "sims_maturity::Matrix{Float64} = maturity(1000,0.01,10,1.3,0.05,9.0,6.0,3,[10.0,10.0,10.0],[0.2,0.2,0.2],cov_matrix)\n",
    "mat= [i for i in 1:10]\n",
    "variance_maturity = sims_maturity[:,6:end]\n",
    "plot_variance(mat,variance_maturity, \"długość przedziału ~ matura\", \"matura\")\n",
    "means_maturity = sims_maturity[:,1:5]\n",
    "plot_mean(mat,means_maturity, \"cena opcji ~ matura\", \"matura\")"
   ]
  },
  {
   "attachments": {},
   "cell_type": "markdown",
   "metadata": {},
   "source": [
    "# Korelacja"
   ]
  },
  {
   "cell_type": "code",
   "execution_count": 10,
   "metadata": {},
   "outputs": [
    {
     "data": {
      "text/plain": [
       "\"C:\\\\Users\\\\adama\\\\OneDrive\\\\Pulpit\\\\magisterka\\\\optionPricing\\\\graphs\\\\altiplano\\\\LHS_altiplano_.svg\""
      ]
     },
     "metadata": {},
     "output_type": "display_data"
    }
   ],
   "source": [
    "sims_correlation::Matrix{Float64} = correlation(1000,0.01,2,500,1.3,0.05,9.0,6.0,3,[10.0,10.0,10.0],[0.2,0.2,0.2])\n",
    "plot_bar_plot(sims_correlation[:,6],\"basic\")\n",
    "plot_bar_plot(sims_correlation[:,7],\"antithetic\")\n",
    "plot_bar_plot(sims_correlation[:,8],\"moment_matching\")\n",
    "plot_bar_plot(sims_correlation[:,9],\"LHS\")"
   ]
  },
  {
   "cell_type": "code",
   "execution_count": 43,
   "metadata": {},
   "outputs": [],
   "source": []
  }
 ],
 "metadata": {
  "kernelspec": {
   "display_name": "Julia 1.8.2",
   "language": "julia",
   "name": "julia-1.8"
  },
  "language_info": {
   "file_extension": ".jl",
   "mimetype": "application/julia",
   "name": "julia",
   "version": "1.8.2"
  },
  "orig_nbformat": 4
 },
 "nbformat": 4,
 "nbformat_minor": 2
}
