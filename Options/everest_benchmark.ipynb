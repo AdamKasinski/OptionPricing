{
 "cells": [
  {
   "cell_type": "code",
   "execution_count": 1,
   "metadata": {},
   "outputs": [],
   "source": [
    "using Plots"
   ]
  },
  {
   "cell_type": "code",
   "execution_count": 2,
   "metadata": {},
   "outputs": [
    {
     "data": {
      "text/plain": [
       "everest_option_monte_carlo (generic function with 2 methods)"
      ]
     },
     "metadata": {},
     "output_type": "display_data"
    }
   ],
   "source": [
    "include(\"everest_option.jl\")"
   ]
  },
  {
   "cell_type": "code",
   "execution_count": 11,
   "metadata": {},
   "outputs": [
    {
     "data": {
      "text/plain": [
       "plot_bar_plot (generic function with 1 method)"
      ]
     },
     "metadata": {},
     "output_type": "display_data"
    }
   ],
   "source": [
    "function compare_variance(num_of_sim::Int, α::Float64,T::Int,N::Int, r::Float64, C::Float64, basket_volume::Int, \n",
    "                        S₀::Array{Float64}, mu::Array{Float64}, sigma::Array{Float64}, correlation_matrix::Array{Float64})\n",
    "\n",
    "\n",
    "    normal = everest_option_monte_carlo(num_of_sim, α, T, N, r, C, basket_volume, S₀, mu, sigma, correlation_matrix,\"basic\")\n",
    "    antithetic = everest_option_monte_carlo(num_of_sim, α, T, N, r, C, basket_volume, S₀, mu, sigma, correlation_matrix,\"antithetic\")\n",
    "    quasi = everest_option_monte_carlo(num_of_sim, α, T, N, r, C, basket_volume, S₀, mu, sigma, correlation_matrix,\"quasi_monte_carlo\")\n",
    "    moment_matching = price_everest_moment_matching(num_of_sim, α, T, N, r, C, basket_volume, S₀, mu, sigma, correlation_matrix)\n",
    "    LHS = everest_option_monte_carlo(num_of_sim, α, T, N, r, C, basket_volume, S₀, mu, sigma, correlation_matrix,\"LHS\")\n",
    "\n",
    "        \n",
    "    mean_elements = normal[1]\n",
    "    bottom_elements = normal[2]\n",
    "    upper_elements = normal[3]\n",
    "\n",
    "    mean_antithetic = antithetic[1]\n",
    "    bottom_antithetic = antithetic[2]\n",
    "    upper_antithetic = antithetic[3]\n",
    "\n",
    "    mean_quasi = quasi\n",
    "\n",
    "    mean_moment_matching = moment_matching[1]\n",
    "    bottom_moment_matching = moment_matching[2]\n",
    "    upper_moment_matching = moment_matching[3]\n",
    "\n",
    "    mean_LHS = LHS[1]\n",
    "    bottom_LHS = LHS[2]\n",
    "    upper_LHS = LHS[3]\n",
    "\n",
    "    length_normal = upper_elements-bottom_elements\n",
    "    length_antithetic = upper_antithetic - bottom_antithetic\n",
    "    length_moment_matching = upper_moment_matching - bottom_moment_matching\n",
    "    length_LHS = upper_LHS-bottom_LHS\n",
    "\n",
    "    return [mean_elements, mean_antithetic, mean_moment_matching, mean_LHS, mean_quasi, \n",
    "            length_normal, length_antithetic, length_moment_matching, length_LHS]\n",
    "end\n",
    "\n",
    "\n",
    "function num_of_sims(num_of_sims::Array{Int}, α::Float64,T::Int,N::Int, r::Float64, C::Float64, basket_volume::Int, \n",
    "    S₀::Array{Float64}, mu::Array{Float64}, sigma::Array{Float64}, correlation_matrix::Array{Float64})\n",
    "\n",
    "    results::Matrix{Float64} = zeros(length(num_of_sims), 9)\n",
    "    \n",
    "    for (ind, num_of_sim) in enumerate(num_of_sims)\n",
    "        results[ind,:] = compare_variance(num_of_sim, α, T, N, r, C, basket_volume, S₀, mu, sigma, correlation_matrix)\n",
    "    end\n",
    "\n",
    "    return results\n",
    "\n",
    "end \n",
    "\n",
    "function mu_value(num_of_sim::Int, α::Float64,T::Int,N::Int, r::Float64, C::Float64, basket_volume::Int, \n",
    "                S₀::Array{Float64}, mu::Array{Float64}, sigma::Array{Float64}, correlation_matrix::Array{Float64})\n",
    "\n",
    "\n",
    "    results::Matrix{Float64} = zeros(length(mu), 9)\n",
    "    for (ind, m) in enumerate(mu)\n",
    "        results[ind,:] = compare_variance(num_of_sim, α,T,N, r, C, basket_volume, S₀, [m for i in 1:basket_volume], sigma, correlation_matrix)\n",
    "    end\n",
    "\n",
    "    return results\n",
    "\n",
    "end\n",
    "\n",
    "function interest_rate(num_of_sim::Int, α::Float64,T::Int,N::Int, r::Array{Float64}, C::Float64, basket_volume::Int, \n",
    "                    S₀::Array{Float64}, mu::Array{Float64}, sigma::Array{Float64}, correlation_matrix::Array{Float64})\n",
    "\n",
    "\n",
    "    results::Matrix{Float64} = zeros(length(rs), 9)\n",
    "    for (ind, r) in enumerate(rs)\n",
    "    results[ind,:] = compare_variance(num_of_sim, α,T,N, r, C, basket_volume, S₀, mu, sigma, correlation_matrix)\n",
    "    end\n",
    "\n",
    "    return results\n",
    "\n",
    "end \n",
    "\n",
    "\n",
    "function maturity(num_of_sim::Int, α::Float64,T::Int, r::Float64, C::Float64, basket_volume::Int, \n",
    "                    S₀::Array{Float64}, mu::Array{Float64}, sigma::Array{Float64}, correlation_matrix::Array{Float64})\n",
    "\n",
    "    results::Matrix{Float64} = zeros(T, 9)\n",
    "    for maturity in 1:T\n",
    "        results[maturity,:] = compare_variance(num_of_sim, α, maturity, maturity*250, r, C, basket_volume, S₀, mu, sigma, correlation_matrix)\n",
    "    end\n",
    "\n",
    "    return results\n",
    "\n",
    "end\n",
    "\n",
    "\n",
    "function correlation(num_of_sim::Int, α::Float64,T::Int,N::Int, r::Float64, C::Float64, basket_volume::Int, \n",
    "    S₀::Array{Float64}, mu::Array{Float64}, sigma::Array{Float64})\n",
    "\n",
    "    corr_matrices::Vector{Matrix{Float64}} = [[1.0 0.1 0.1; 0.1 1.0 0.1; 0.1 0.1 1.0], [1.0 0.5 0.4; 0.5 1.0 0.6; 0.4 0.6 1.0], [1.0 0.9 0.8; 0.9 1.0 0.7; 0.8 0.7 1.0]] \n",
    "\n",
    "    if basket_volume == 7\n",
    "    corr_matrices = [[\n",
    "    1.0  0.1  0.1  0.1  0.1  0.1  0.1;\n",
    "    0.1  1.0  0.1  0.1  0.1  0.1  0.1;\n",
    "    0.1  0.1  1.0  0.1  0.1  0.1  0.1;\n",
    "    0.1  0.1  0.1  1.0  0.1  0.1  0.1;\n",
    "    0.1  0.1  0.1  0.1  1.0  0.1  0.1;\n",
    "    0.1  0.1  0.1  0.1  0.1  1.0  0.1;\n",
    "    0.1  0.1  0.1  0.1  0.1  0.1  1.0\n",
    "    ],\n",
    "    [\n",
    "    1.0  0.5  0.4  0.3  0.2  0.1  0.1;\n",
    "    0.5  1.0  0.6  0.5  0.4  0.2  0.1;\n",
    "    0.4  0.6  1.0  0.4  0.3  0.1  0.1;\n",
    "    0.3  0.5  0.4  1.0  0.6  0.2  0.1;\n",
    "    0.2  0.4  0.3  0.6  1.0  0.5  0.1;\n",
    "    0.1  0.2  0.1  0.2  0.5  1.0  0.4;\n",
    "    0.1  0.1  0.1  0.1  0.1  0.4  1.0\n",
    "    ],\n",
    "    [\n",
    "    1.0  0.9  0.8  0.7  0.6  0.5  0.4;\n",
    "    0.9  1.0  0.9  0.8  0.7  0.6  0.5;\n",
    "    0.8  0.9  1.0  0.7  0.6  0.5  0.4;\n",
    "    0.7  0.8  0.7  1.0  0.9  0.4  0.3;\n",
    "    0.6  0.7  0.6  0.9  1.0  0.3  0.2;\n",
    "    0.5  0.6  0.5  0.4  0.3  1.0  0.1;\n",
    "    0.4  0.5  0.4  0.3  0.2  0.1  1.0\n",
    "    ]] \n",
    "    end\n",
    "\n",
    "    results::Matrix{Float64} = zeros(3, 9)\n",
    "    for correlation in eachindex(corr_matrices)\n",
    "        results[correlation,:] = compare_variance(num_of_sim, α,T,N, r, C, basket_volume, S₀, mu, sigma, corr_matrices[correlation])\n",
    "    end\n",
    "    return results\n",
    "\n",
    "end\n",
    "\n",
    "\n",
    "function plot_variance(vals, variance, title, xlabel)\n",
    "    scatter(vals,variance, label = [\"normal\" \"antithetic\" \"moment_matching\" \"LHS\"], title = title, legend = :outertop)\n",
    "    xlabel!(xlabel)\n",
    "    savefig(string(\"C:\\\\Users\\\\adama\\\\OneDrive\\\\Pulpit\\\\magisterka\\\\optionPricing\\\\graphs\\\\everest\\\\\", title, \"_everest_\", \".svg\"))\n",
    "end\n",
    "\n",
    "function plot_mean(vals, mean, title, xlabel)\n",
    "    scatter(vals, mean, label=[\"mean_elements\" \"mean_antithetic\" \"mean_moment_matching\" \"mean_LHS\" \"mean_quasi\"], legend = :outertop)\n",
    "    title!(title)\n",
    "    xlabel!(xlabel)\n",
    "    savefig(string(\"C:\\\\Users\\\\adama\\\\OneDrive\\\\Pulpit\\\\magisterka\\\\optionPricing\\\\graphs\\\\everest\\\\\", title,\"_everest_\", \".svg\"))\n",
    "end\n",
    "\n",
    "function plot_bar_plot(results,name)\n",
    "    bar([\"słaba\", \"średnia\", \"silna\"],results,label=name,title=string(\"długość przedziału ~ korelacja dla metody \",name), xlabel = \"siła korelacji między spółkami\", xticks = :all,legend=false, fmt = :svg)    \n",
    "    savefig(string(\"C:\\\\Users\\\\adama\\\\OneDrive\\\\Pulpit\\\\magisterka\\\\optionPricing\\\\graphs\\\\everest\\\\\", name, \"_everest_\", \".svg\"))\n",
    "end"
   ]
  },
  {
   "cell_type": "code",
   "execution_count": 4,
   "metadata": {},
   "outputs": [
    {
     "data": {
      "text/plain": [
       "3×3 Matrix{Float64}:\n",
       " 1.0  0.3  0.4\n",
       " 0.3  1.0  0.1\n",
       " 0.4  0.1  1.0"
      ]
     },
     "metadata": {},
     "output_type": "display_data"
    }
   ],
   "source": [
    "cov_matrix = [1.0 0.3 0.4; 0.3 1.0 0.1; 0.4 0.1 1.0] "
   ]
  },
  {
   "attachments": {},
   "cell_type": "markdown",
   "metadata": {},
   "source": [
    "# Liczba symulacji a szerokość przedziału"
   ]
  },
  {
   "cell_type": "code",
   "execution_count": 9,
   "metadata": {},
   "outputs": [
    {
     "data": {
      "text/plain": [
       "\"C:\\\\Users\\\\adama\\\\OneDrive\\\\Pulpit\\\\magisterka\\\\optionPricing\\\\graphs\\\\cena opcji ~ wielkość próby_everest_.svg\""
      ]
     },
     "metadata": {},
     "output_type": "display_data"
    }
   ],
   "source": [
    "n_of_sims = [100:10:2000;]\n",
    "sims::Matrix{Float64} = num_of_sims(n_of_sims,0.01,1,250,0.03,8.0,3,[10.0,10.0,10.0],[0.05,0.05,0.05],[0.15,0.15,0.15],cov_matrix)\n",
    "variance = sims[:,6:end]\n",
    "plot_variance(n_of_sims,variance,\"długość przedziału ufności ~ wielkość próby\", \"wielkość próby\")\n",
    "means = sims[:,1:5]\n",
    "plot_mean(n_of_sims,means,\"cena opcji ~ wielkość próby\", \"wielkość próby\")"
   ]
  },
  {
   "attachments": {},
   "cell_type": "markdown",
   "metadata": {},
   "source": [
    "# Variance ~ trend"
   ]
  },
  {
   "cell_type": "code",
   "execution_count": 17,
   "metadata": {},
   "outputs": [
    {
     "data": {
      "text/plain": [
       "\"C:\\\\Users\\\\adama\\\\OneDrive\\\\Pulpit\\\\magisterka\\\\optionPricing\\\\graphs\\\\cena opcji ~ trend_everest_.svg\""
      ]
     },
     "metadata": {},
     "output_type": "display_data"
    }
   ],
   "source": [
    "mu = [0.01:0.001:0.1;]\n",
    "sims_mu::Matrix{Float64} = mu_value(1000,0.01,1,250,0.03,8.0,3,[10.0,10.0,10.0],mu,[0.15,0.15,0.15],cov_matrix)\n",
    "variance_mu = sims_mu[:,6:end]\n",
    "plot_variance(mu,variance_mu, \"długość przedziału ufności ~ trend\", \"trend\")\n",
    "means_mu = sims_mu[:,1:5]\n",
    "plot_mean(mu,means_mu, \"cena opcji ~ trend\", \"trend\")"
   ]
  },
  {
   "attachments": {},
   "cell_type": "markdown",
   "metadata": {},
   "source": [
    "# Stopy procentowe"
   ]
  },
  {
   "cell_type": "code",
   "execution_count": 22,
   "metadata": {},
   "outputs": [
    {
     "data": {
      "text/plain": [
       "\"C:\\\\Users\\\\adama\\\\OneDrive\\\\Pulpit\\\\magisterka\\\\optionPricing\\\\graphs\\\\cena opcji ~ stopy procentowe_everest_.svg\""
      ]
     },
     "metadata": {},
     "output_type": "display_data"
    }
   ],
   "source": [
    "rs = [0.01:0.001:0.1;]\n",
    "sims_rs::Matrix{Float64} = interest_rate(1000,0.01,1,250,rs,8.0,3,[10.0,10.0,10.0],[0.05,0.05,0.05],[0.15,0.15,0.15],cov_matrix)\n",
    "variance_rs = sims_rs[:,6:end]\n",
    "plot_variance(rs,variance_rs, \"długość przedziału ufności ~ stopy procentowe\", \"stopy procentowe\")\n",
    "means_rs = sims_rs[:,1:5]\n",
    "plot_mean(rs,means_rs, \"cena opcji ~ stopy procentowe\", \"stopy procentowe\")"
   ]
  },
  {
   "attachments": {},
   "cell_type": "markdown",
   "metadata": {},
   "source": [
    "# Matura"
   ]
  },
  {
   "cell_type": "code",
   "execution_count": 6,
   "metadata": {},
   "outputs": [
    {
     "data": {
      "text/plain": [
       "\"C:\\\\Users\\\\adama\\\\OneDrive\\\\Pulpit\\\\magisterka\\\\optionPricing\\\\graphs\\\\cena opcji ~ matura_everest_.svg\""
      ]
     },
     "metadata": {},
     "output_type": "display_data"
    }
   ],
   "source": [
    "sims_maturity::Matrix{Float64} = maturity(1000,0.01,10,0.03,8.0,3,[10.0,10.0,10.0],[0.05,0.05,0.05],[0.15,0.15,0.15],cov_matrix)\n",
    "mat= [i for i in 1:10]\n",
    "variance_maturity = sims_maturity[:,6:end]\n",
    "plot_variance(mat,variance_maturity, \"długość przedziału ~ matura\", \"matura\")\n",
    "means_maturity = sims_maturity[:,1:5]\n",
    "plot_mean(mat,means_maturity, \"cena opcji ~ matura\", \"matura\")"
   ]
  },
  {
   "attachments": {},
   "cell_type": "markdown",
   "metadata": {},
   "source": [
    "# Korelacja"
   ]
  },
  {
   "cell_type": "code",
   "execution_count": 10,
   "metadata": {},
   "outputs": [
    {
     "data": {
      "text/plain": [
       "\"C:\\\\Users\\\\adama\\\\OneDrive\\\\Pulpit\\\\magisterka\\\\optionPricing\\\\graphs\\\\LHS_everest_.svg\""
      ]
     },
     "metadata": {},
     "output_type": "display_data"
    }
   ],
   "source": [
    "sims_correlation::Matrix{Float64} = correlation(1000,0.01,1,250,0.03,8.0,3,[10.0,10.0,10.0],[0.05,0.05,0.05],[0.15,0.15,0.15])\n",
    "plot_bar_plot(sims_correlation[:,6],\"basic\")\n",
    "plot_bar_plot(sims_correlation[:,7],\"antithetic\")\n",
    "plot_bar_plot(sims_correlation[:,8],\"moment_matching\")\n",
    "plot_bar_plot(sims_correlation[:,9],\"LHS\")"
   ]
  }
 ],
 "metadata": {
  "kernelspec": {
   "display_name": "Julia 1.8.2",
   "language": "julia",
   "name": "julia-1.8"
  },
  "language_info": {
   "file_extension": ".jl",
   "mimetype": "application/julia",
   "name": "julia",
   "version": "1.8.2"
  },
  "orig_nbformat": 4
 },
 "nbformat": 4,
 "nbformat_minor": 2
}
