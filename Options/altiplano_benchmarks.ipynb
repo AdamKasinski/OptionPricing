{
 "cells": [
  {
   "cell_type": "code",
   "execution_count": 2,
   "metadata": {},
   "outputs": [
    {
     "data": {
      "text/plain": [
       "altiplano_option_monte_carlo (generic function with 2 methods)"
      ]
     },
     "metadata": {},
     "output_type": "display_data"
    }
   ],
   "source": [
    "include(\"altiplano_option.jl\")"
   ]
  },
  {
   "cell_type": "code",
   "execution_count": 3,
   "metadata": {},
   "outputs": [
    {
     "name": "stdout",
     "output_type": "stream",
     "text": [
      "basic mean : 2.7038626221435687 length: 0.002629203197486163\n",
      "antithetic mean : 2.7044461241869344 length antithetic: 0.0003704290881403338\n",
      "quasi mean : 2.703863956162847 length quasi: 0.010365481059635862\n",
      "moment matching mean : 2.9999999999999973 length matching: 0.0027069331112743455\n",
      "LHS mean : 2.703970124848676 length LHS: 1.7763568394002505e-15\n"
     ]
    }
   ],
   "source": [
    "cov_matrix = [1.0 0.3 0.4; 0.3 1.0 0.1; 0.4 0.1 1.0] \n",
    "normal = [altiplano_option_monte_carlo(10000,0.05,10,0.003,0.01,7.0,10.0,[1,3,7],3,[10.0,10.0,10.0],[0.07,0.07,0.07],[0.01,0.01,0.01],cov_matrix,\"basic\") for i in 1:2]\n",
    "antithetic = [altiplano_option_monte_carlo(10,0.05,10,0.003,0.01,7.0,10.0,[1,3,7],3,[10.0,10.0,10.0],[0.07,0.07,0.07],[0.01,0.01,0.01],cov_matrix,\"antithetic\") for i in 1:2]\n",
    "quasi = [altiplano_option_monte_carlo(10,0.05,10,0.003,0.01,7.0,10.0,[1,3,7],3,[10.0,10.0,10.0],[0.07,0.07,0.07],[0.01,0.01,0.01],cov_matrix,\"quasi_monte_carlo\") for i in 1:2]\n",
    "moment_matching = [price_altiplano_moment_matching(10000,0.05,10,0.003,0.01,7.0,10.0,[1,3,7],3,[10.0,10.0,10.0],[0.07,0.07,0.07],[0.01,0.01,0.01],cov_matrix) for i in 1:2]\n",
    "LHS = [altiplano_option_monte_carlo(10,0.05,10,0.003,0.01,7.0,10.0,[1,3,7],3,[10.0,10.0,10.0],[0.07,0.07,0.07],[0.01,0.01,0.01],cov_matrix,\"LHS\") for i in 1:2]\n",
    "\n",
    "mean_elements = mean([normal[i][1] for i in eachindex(normal)])\n",
    "bottom_elements = mean([normal[i][2] for i in eachindex(normal)])\n",
    "upper_elements = mean([normal[i][3] for i in eachindex(normal)])\n",
    "\n",
    "mean_antithetic = mean([antithetic[i][1] for i in eachindex(antithetic)])\n",
    "bottom_antithetic = mean([antithetic[i][2] for i in eachindex(antithetic)])\n",
    "upper_antithetic = mean([antithetic[i][3] for i in eachindex(antithetic)])\n",
    "\n",
    "mean_quasi = mean([quasi[i][1] for i in eachindex(quasi)])\n",
    "bottom_quasi = mean([quasi[i][2] for i in eachindex(quasi)])\n",
    "upper_quasi = mean([quasi[i][3] for i in eachindex(quasi)])\n",
    "\n",
    "mean_moment_matching = mean([moment_matching[i][1] for i in eachindex(moment_matching)])\n",
    "bottom_moment_matching = mean([moment_matching[i][2] for i in eachindex(moment_matching)])\n",
    "upper_moment_matching = mean([moment_matching[i][3] for i in eachindex(moment_matching)])\n",
    "\n",
    "mean_LHS = mean([LHS[i][1] for i in eachindex(LHS)])\n",
    "bottom_LHS = mean([LHS[i][2] for i in eachindex(LHS)])\n",
    "upper_LHS = mean([LHS[i][3] for i in eachindex(LHS)])\n",
    "\n",
    "length_normal = upper_elements-bottom_elements\n",
    "length_antithetic = upper_antithetic - bottom_antithetic\n",
    "length_quasi = upper_quasi-bottom_quasi\n",
    "length_moment_matching = upper_moment_matching - bottom_moment_matching\n",
    "length_LHS = upper_LHS-bottom_LHS\n",
    "\n",
    "println(\"basic mean : $mean_elements length: $length_normal\")\n",
    "println(\"antithetic mean : $mean_antithetic length antithetic: $length_antithetic\")\n",
    "println(\"quasi mean : $mean_quasi length quasi: $length_quasi\")\n",
    "println(\"moment matching mean : $mean_moment_matching length matching: $length_moment_matching\")\n",
    "println(\"LHS mean : $mean_LHS length LHS: $length_LHS\")\n"
   ]
  },
  {
   "cell_type": "code",
   "execution_count": 26,
   "metadata": {},
   "outputs": [],
   "source": [
    "#mean_elements\n",
    "#mean_moment_matching"
   ]
  }
 ],
 "metadata": {
  "kernelspec": {
   "display_name": "Julia 1.8.2",
   "language": "julia",
   "name": "julia-1.8"
  },
  "language_info": {
   "file_extension": ".jl",
   "mimetype": "application/julia",
   "name": "julia",
   "version": "1.8.2"
  },
  "orig_nbformat": 4
 },
 "nbformat": 4,
 "nbformat_minor": 2
}
