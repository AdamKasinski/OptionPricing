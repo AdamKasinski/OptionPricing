{
 "cells": [
  {
   "cell_type": "code",
   "execution_count": 6,
   "metadata": {},
   "outputs": [],
   "source": [
    "using Plots"
   ]
  },
  {
   "cell_type": "code",
   "execution_count": 7,
   "metadata": {},
   "outputs": [
    {
     "name": "stdout",
     "output_type": "stream",
     "text": [
      "[2.236435731611934, 1.8260366016126244, 2.6468348616112434]"
     ]
    }
   ],
   "source": [
    "include(\"atlas_option.jl\")"
   ]
  },
  {
   "cell_type": "code",
   "execution_count": 8,
   "metadata": {},
   "outputs": [
    {
     "data": {
      "text/plain": [
       "plot_bar_plot (generic function with 1 method)"
      ]
     },
     "metadata": {},
     "output_type": "display_data"
    }
   ],
   "source": [
    "function compare_variance(num_of_sim::Int, α::Float64, T::Int, N::Int, r::Float64, K::Float64, basket_volume::Int, \n",
    "                        S₀::Array{Float64}, sigma::Array{Float64}, \n",
    "                        correlation_matrix::Matrix{Float64}, n1::Int, n2::Int)\n",
    "\n",
    "\n",
    "    normal = atlas_option_monte_carlo(num_of_sim, α, T, N, r, K, basket_volume, S₀, sigma, correlation_matrix, \n",
    "                                    n1, n2, \"basic\")\n",
    "    antithetic = atlas_option_monte_carlo(num_of_sim, α, T, N, r, K, basket_volume, S₀, sigma, \n",
    "                                        correlation_matrix, n1, n2,\"antithetic\")\n",
    "    quasi = atlas_option_monte_carlo(num_of_sim, α, T, N, r, K, basket_volume, S₀, sigma, correlation_matrix, \n",
    "                                    n1, n2, \"quasi_monte_carlo\")\n",
    "    moment_matching = price_atlas_moment_matching(num_of_sim, α, T, N, r, K, basket_volume, S₀, sigma, \n",
    "                                    correlation_matrix, n1, n2) \n",
    "    LHS = atlas_option_monte_carlo(num_of_sim, α, T, N, r, K, basket_volume, S₀, sigma, correlation_matrix, \n",
    "                                    n1, n2, \"LHS\")\n",
    "\n",
    "    mean_elements = normal[1]\n",
    "    bottom_elements = normal[2]\n",
    "    upper_elements = normal[3]\n",
    "\n",
    "    mean_antithetic = antithetic[1]\n",
    "    bottom_antithetic = antithetic[2]\n",
    "    upper_antithetic = antithetic[3]\n",
    "\n",
    "    mean_quasi = quasi\n",
    "\n",
    "    mean_moment_matching = moment_matching[1]\n",
    "    bottom_moment_matching = moment_matching[2]\n",
    "    upper_moment_matching = moment_matching[3]\n",
    "\n",
    "    mean_LHS = LHS[1]\n",
    "    bottom_LHS = LHS[2]\n",
    "    upper_LHS = LHS[3]\n",
    "\n",
    "    length_normal = upper_elements-bottom_elements\n",
    "    length_antithetic = upper_antithetic - bottom_antithetic\n",
    "    length_moment_matching = upper_moment_matching - bottom_moment_matching\n",
    "    length_LHS = upper_LHS-bottom_LHS\n",
    "\n",
    "    return [mean_elements, mean_antithetic, mean_moment_matching, mean_LHS, mean_quasi, \n",
    "            length_normal, length_antithetic, length_moment_matching, length_LHS]\n",
    "end\n",
    "\n",
    "function num_of_sims(num_of_sims::Array{Int},α::Float64, T::Int, N::Int, r::Float64, K::Float64, \n",
    "                    basket_volume::Int, S₀::Array{Float64}, sigma::Array{Float64}, \n",
    "                    correlation_matrix::Matrix{Float64}, n1::Int, n2::Int)\n",
    "\n",
    "    results::Matrix{Float64} = zeros(length(num_of_sims), 9)\n",
    "    for (ind, num_of_sim) in enumerate(num_of_sims)\n",
    "        results[ind,:] = compare_variance(num_of_sim,α, T, N, r, K, basket_volume, S₀, sigma, correlation_matrix, \n",
    "                                        n1, n2)\n",
    "    end\n",
    "\n",
    "    return results\n",
    "\n",
    "end \n",
    "\n",
    "\n",
    "function interest_rate(num_of_sims::Int,α::Float64, T::Int, N::Int, rs::Array{Float64}, K::Float64, \n",
    "                        basket_volume::Int, S₀::Array{Float64},  sigma::Array{Float64}, \n",
    "                        correlation_matrix::Matrix{Float64}, n1::Int, n2::Int)\n",
    "\n",
    "\n",
    "    results::Matrix{Float64} = zeros(length(rs), 9)\n",
    "    for (ind, r) in enumerate(rs)\n",
    "        results[ind,:] = compare_variance(num_of_sims,α, T, N, r, K, basket_volume, S₀, sigma, correlation_matrix, \n",
    "        n1, n2)\n",
    "    end\n",
    "\n",
    "    return results\n",
    "\n",
    "end \n",
    "\n",
    "\n",
    "function maturity(num_of_sims::Int,α::Float64, T::Int, r::Float64, K::Float64, basket_volume::Int, S₀::Array{Float64}, \n",
    "                 sigma::Array{Float64}, correlation_matrix::Matrix{Float64}, n1::Int, n2::Int)\n",
    "\n",
    "\n",
    "    results::Matrix{Float64} = zeros(T, 9)\n",
    "    for maturity in 1:T\n",
    "        results[maturity,:] = compare_variance(num_of_sims,α, maturity, maturity*250, r, K, basket_volume, S₀, \n",
    "                                                sigma, correlation_matrix, n1, n2)\n",
    "    end\n",
    "\n",
    "    return results\n",
    "\n",
    "end\n",
    "\n",
    "\n",
    "function correlation(num_of_sims::Int,α::Float64, T::Int, N::Int, r::Float64, K::Float64, basket_volume::Int, \n",
    "                    S₀::Array{Float64}, sigma::Array{Float64}, n1::Int, n2::Int)\n",
    "\n",
    "    corr_matrices::Vector{Matrix{Float64}} = [[1.0 0.1 0.1; 0.1 1.0 0.1; 0.1 0.1 1.0], \n",
    "                                              [1.0 0.5 0.4; 0.5 1.0 0.6; 0.4 0.6 1.0], \n",
    "                                              [1.0 0.9 0.8; 0.9 1.0 0.7; 0.8 0.7 1.0]] \n",
    "\n",
    "\n",
    "    results::Matrix{Float64} = zeros(3, 9)\n",
    "    for correlation in eachindex(corr_matrices)\n",
    "        results[correlation,:] = compare_variance(num_of_sims,α, T, N, r, K, basket_volume, S₀, sigma, \n",
    "                                                    corr_matrices[correlation], n1, n2)\n",
    "    end\n",
    "    return results\n",
    "\n",
    "end\n",
    "\n",
    "\n",
    "function plot_variance(vals, variance, title, xlabel)\n",
    "    scatter(vals,variance, label = [\"normal\" \"antithetic\" \"moment_matching\" \"LHS\"], title = title, legend = :outertop)\n",
    "    xlabel!(xlabel)\n",
    "    savefig(string(\"C:\\\\Users\\\\adama\\\\OneDrive\\\\Pulpit\\\\magisterka\\\\optionPricing\\\\graphs\\\\atlas\\\\\", \n",
    "                    title, \"_atlas_\", \".svg\"))\n",
    "end\n",
    "\n",
    "function plot_mean(vals, mean, title, xlabel)\n",
    "    scatter(vals, mean, label=[\"mean_elements\" \"mean_antithetic\" \"mean_moment_matching\" \"mean_LHS\" \"mean_quasi\"], \n",
    "            legend = :outertop)\n",
    "    title!(title)\n",
    "    xlabel!(xlabel)\n",
    "    savefig(string(\"C:\\\\Users\\\\adama\\\\OneDrive\\\\Pulpit\\\\magisterka\\\\optionPricing\\\\graphs\\\\atlas\\\\\", \n",
    "            title,\"_atlas_\", \".svg\"))\n",
    "end\n",
    "\n",
    "function plot_bar_plot(results,name)\n",
    "    bar([\"słaba\", \"średnia\", \"silna\"],results,label=name,\n",
    "        title=string(\"długość przedziału ~ korelacja dla metody \",name), \n",
    "        xlabel = \"siła korelacji między spółkami\", \n",
    "        xticks = :all,legend=false, fmt = :svg)    \n",
    "    savefig(string(\"C:\\\\Users\\\\adama\\\\OneDrive\\\\Pulpit\\\\magisterka\\\\optionPricing\\\\graphs\\\\atlas\\\\\", name, \n",
    "            \"_atlas_\", \".svg\"))\n",
    "end"
   ]
  },
  {
   "cell_type": "code",
   "execution_count": null,
   "metadata": {},
   "outputs": [],
   "source": [
    "function compare_pricing_time(num_of_sim::Int, α::Float64, T::Int, N::Int, r::Float64, K::Float64, basket_volume::Int, \n",
    "                                S₀::Array{Float64}, sigma::Array{Float64}, \n",
    "                                correlation_matrix::Matrix{Float64}, n1::Int, n2::Int)\n",
    "\n",
    "\n",
    "t_normal = @elapsed [atlas_option_monte_carlo(num_of_sim, α, T, N, r, K, basket_volume, S₀, sigma, correlation_matrix, n1, n2, \"basic\") for i in 1:1000]\n",
    "t_antithetic = @elapsed  [atlas_option_monte_carlo(num_of_sim, α, T, N, r, K, basket_volume, S₀, sigma, correlation_matrix, n1, n2,,\"antithetic\") for i in 1:1000]\n",
    "t_quasi_monte_carlo = @elapsed [atlas_option_monte_carlo(num_of_sim, α, T, N, r, K, basket_volume, S₀, sigma, correlation_matrix, n1, n2, \"quasi_monte_carlo\") for i in 1:1000]\n",
    "t_moment_matching = @elapsed [price_atlas_moment_matching(num_of_sim, α, T, N, r, K, basket_volume, S₀, sigma, correlation_matrix, n1, n2,) for i in 1:1000] \n",
    "t_LHS = @elapsed [atlas_option_monte_carlo(num_of_sim, α, T, N, r, K, basket_volume, S₀, sigma, correlation_matrix, n1, n2,\"LHS\") for i in 1:1000]\n",
    "\n",
    "return Dict(\"basic\" => t_normal, \"antithetic\" => t_antithetic, \"quasi_monte_carlo\" => t_quasi_monte_carlo,\n",
    "\"moment_matching\" => t_moment_matching, \"LHS\" => t_LHS)\n",
    "end\n"
   ]
  },
  {
   "cell_type": "code",
   "execution_count": 9,
   "metadata": {},
   "outputs": [
    {
     "data": {
      "text/plain": [
       "3×3 Matrix{Float64}:\n",
       " 1.0  0.3  0.4\n",
       " 0.3  1.0  0.1\n",
       " 0.4  0.1  1.0"
      ]
     },
     "metadata": {},
     "output_type": "display_data"
    }
   ],
   "source": [
    "cov_matrix = [1.0 0.3 0.4; 0.3 1.0 0.1; 0.4 0.1 1.0] "
   ]
  },
  {
   "cell_type": "code",
   "execution_count": 17,
   "metadata": {},
   "outputs": [
    {
     "data": {
      "text/plain": [
       "5-element Vector{Float64}:\n",
       " 2.3783578420006877\n",
       " 2.3764371798790025\n",
       " 2.4943041214015182\n",
       " 2.2433961032593737\n",
       " 2.436923060426837"
      ]
     },
     "metadata": {},
     "output_type": "display_data"
    }
   ],
   "source": [
    "results = compare_variance(2000,0.01,2,500,0.03,8.0,3,[10.0,10.0,10.0], [0.15,0.15,0.15],cov_matrix,1,1)[1:5]"
   ]
  },
  {
   "cell_type": "code",
   "execution_count": 18,
   "metadata": {},
   "outputs": [
    {
     "data": {
      "text/plain": [
       "4-element Vector{Float64}:\n",
       " -0.0008075580922967874\n",
       "  0.04875056114486789\n",
       " -0.05674576649398707\n",
       "  0.024624224913473904"
      ]
     },
     "metadata": {},
     "output_type": "display_data"
    }
   ],
   "source": [
    "(results[2:5] .- results[1])./results[1] # mean_antithetic, mean_moment_matching, mean_LHS, mean_quasi"
   ]
  },
  {
   "attachments": {},
   "cell_type": "markdown",
   "metadata": {},
   "source": [
    "# Ilość symulacji"
   ]
  },
  {
   "cell_type": "code",
   "execution_count": 16,
   "metadata": {},
   "outputs": [
    {
     "data": {
      "text/plain": [
       "\"C:\\\\Users\\\\adama\\\\OneDrive\\\\Pulpit\\\\magisterka\\\\optionPricing\\\\graphs\\\\atlas\\\\cena opcji ~ wielkość próby_atlas_.svg\""
      ]
     },
     "metadata": {},
     "output_type": "display_data"
    }
   ],
   "source": [
    "n_of_sims = [100:100:5000;]\n",
    "sims::Matrix{Float64} = num_of_sims(n_of_sims,0.01,2,500,0.03,8.0,3,[10.0,10.0,10.0],\n",
    "                                    [0.15,0.15,0.15],cov_matrix,1,1)\n",
    "variance = sims[:,6:end]\n",
    "plot_variance(n_of_sims,variance,\"długość przedziału ufności ~ wielkość próby\", \"wielkość próby\")\n",
    "means = sims[:,1:5]\n",
    "plot_mean(n_of_sims,means,\"cena opcji ~ wielkość próby\", \"wielkość próby\")"
   ]
  },
  {
   "attachments": {},
   "cell_type": "markdown",
   "metadata": {},
   "source": [
    "# Stopy procentowe"
   ]
  },
  {
   "cell_type": "code",
   "execution_count": 13,
   "metadata": {},
   "outputs": [
    {
     "data": {
      "text/plain": [
       "\"C:\\\\Users\\\\adama\\\\OneDrive\\\\Pulpit\\\\magisterka\\\\optionPricing\\\\graphs\\\\atlas\\\\cena opcji ~ stopy procentowe_atlas_.svg\""
      ]
     },
     "metadata": {},
     "output_type": "display_data"
    }
   ],
   "source": [
    "rs = [0.01:0.001:0.1;]\n",
    "sims_rs::Matrix{Float64} = interest_rate(1000,0.01,2,500,rs, 8.0,3,[10.0,10.0,10.0],\n",
    "                                        [0.15,0.15,0.15], cov_matrix, 1, 1)\n",
    "variance_rs = sims_rs[:,6:end]\n",
    "plot_variance(rs,variance_rs, \"długość przedziału ufności ~ stopy procentowe\", \"stopy procentowe\")\n",
    "means_rs = sims_rs[:,1:5]\n",
    "plot_mean(rs,means_rs, \"cena opcji ~ stopy procentowe\", \"stopy procentowe\")"
   ]
  },
  {
   "attachments": {},
   "cell_type": "markdown",
   "metadata": {},
   "source": [
    "# Matura"
   ]
  },
  {
   "cell_type": "code",
   "execution_count": 14,
   "metadata": {},
   "outputs": [
    {
     "data": {
      "text/plain": [
       "\"C:\\\\Users\\\\adama\\\\OneDrive\\\\Pulpit\\\\magisterka\\\\optionPricing\\\\graphs\\\\atlas\\\\cena opcji ~ matura_atlas_.svg\""
      ]
     },
     "metadata": {},
     "output_type": "display_data"
    }
   ],
   "source": [
    "sims_maturity::Matrix{Float64} = maturity(1000,0.01,10,0.03,8.0,3,[10.0,10.0,10.0],\n",
    "                                        [0.15,0.15,0.15],cov_matrix, 1, 1)\n",
    "mat= [i for i in 1:10]\n",
    "variance_maturity = sims_maturity[:,6:end]\n",
    "plot_variance(mat,variance_maturity, \"długość przedziału ~ matura\", \"matura\")\n",
    "means_maturity = sims_maturity[:,1:5]\n",
    "plot_mean(mat,means_maturity, \"cena opcji ~ matura\", \"matura\")"
   ]
  },
  {
   "attachments": {},
   "cell_type": "markdown",
   "metadata": {},
   "source": [
    "# Korelacja"
   ]
  },
  {
   "cell_type": "code",
   "execution_count": 15,
   "metadata": {},
   "outputs": [
    {
     "data": {
      "text/plain": [
       "\"C:\\\\Users\\\\adama\\\\OneDrive\\\\Pulpit\\\\magisterka\\\\optionPricing\\\\graphs\\\\atlas\\\\LHS_atlas_.svg\""
      ]
     },
     "metadata": {},
     "output_type": "display_data"
    }
   ],
   "source": [
    "sims_correlation::Matrix{Float64} = correlation(1000,0.01,2,500,0.03,8.0,3,[10.0,10.0,10.0],\n",
    "                                                [0.15,0.15,0.15],1,1)\n",
    "plot_bar_plot(sims_correlation[:,6],\"basic\")\n",
    "plot_bar_plot(sims_correlation[:,7],\"antithetic\")\n",
    "plot_bar_plot(sims_correlation[:,8],\"moment_matching\")\n",
    "plot_bar_plot(sims_correlation[:,9],\"LHS\")"
   ]
  },
  {
   "cell_type": "code",
   "execution_count": 23,
   "metadata": {},
   "outputs": [],
   "source": []
  }
 ],
 "metadata": {
  "kernelspec": {
   "display_name": "Julia 1.8.2",
   "language": "julia",
   "name": "julia-1.8"
  },
  "language_info": {
   "file_extension": ".jl",
   "mimetype": "application/julia",
   "name": "julia",
   "version": "1.8.2"
  },
  "orig_nbformat": 4
 },
 "nbformat": 4,
 "nbformat_minor": 2
}
