{
 "cells": [
  {
   "cell_type": "code",
   "execution_count": 5,
   "metadata": {},
   "outputs": [
    {
     "data": {
      "text/plain": [
       "himalayan_option_monte_carlo (generic function with 1 method)"
      ]
     },
     "metadata": {},
     "output_type": "display_data"
    }
   ],
   "source": [
    "include(\"himalayan_option.jl\")"
   ]
  },
  {
   "cell_type": "code",
   "execution_count": 6,
   "metadata": {},
   "outputs": [
    {
     "name": "stdout",
     "output_type": "stream",
     "text": [
      "basic mean : 0.0055447770987257835 length: 8.568886248608819e-6\n",
      "antithetic mean : 0.005544168232395683 length antithetic: 4.293543686708333e-6\n",
      "quasi mean : 0.005537485325286402 length quasi: 1.9194248272319525e-6\n",
      "moment matching mean : 0.0005530843701478335 length matching: 1.0899246632560273e-6\n",
      "LHS mean : 0.005541375669768972 length LHS: 4.0783064915068945e-6\n"
     ]
    }
   ],
   "source": [
    "cov_matrix = [1.0 0.3 0.4; 0.3 1.0 0.1; 0.4 0.1 1.0] \n",
    "normal = [himalayan_option_monte_carlo(10,0.05,0.01,3,[10.0,10.0,10.0],[0.07,0.07,0.07],[0.02,0.02,0.02], cov_matrix,\"basic\") for i in 1:2]\n",
    "antithetic = [himalayan_option_monte_carlo(10,0.05,0.01,3,[10.0,10.0,10.0],[0.07,0.07,0.07],[0.02,0.02,0.02], cov_matrix,\"antithetic\") for i in 1:2]\n",
    "quasi = [himalayan_option_monte_carlo(10,0.05,0.01,3,[10.0,10.0,10.0],[0.07,0.07,0.07],[0.02,0.02,0.02],cov_matrix,\"quasi_monte_carlo\") for i in 1:2]\n",
    "moment_matching = [price_himalayan_moment_matching(10,0.05,0.01,3,[10.0,10.0,10.0],[0.07,0.07,0.07],[0.02,0.02,0.02], cov_matrix) for i in 1:2]\n",
    "LHS = [himalayan_option_monte_carlo(10,0.05,0.01,3,[10.0,10.0,10.0],[0.07,0.07,0.07],[0.02,0.02,0.02], cov_matrix,\"LHS\") for i in 1:2]\n",
    " \n",
    "mean_elements = mean([normal[i][1] for i in eachindex(normal)])\n",
    "bottom_elements = mean([normal[i][2] for i in eachindex(normal)])\n",
    "upper_elements = mean([normal[i][3] for i in eachindex(normal)])\n",
    "\n",
    "mean_antithetic = mean([antithetic[i][1] for i in eachindex(antithetic)])\n",
    "bottom_antithetic = mean([antithetic[i][2] for i in eachindex(antithetic)])\n",
    "upper_antithetic = mean([antithetic[i][3] for i in eachindex(antithetic)])\n",
    "\n",
    "mean_quasi = mean([quasi[i][1] for i in eachindex(quasi)])\n",
    "bottom_quasi = mean([quasi[i][2] for i in eachindex(quasi)])\n",
    "upper_quasi = mean([quasi[i][3] for i in eachindex(quasi)])\n",
    "\n",
    "mean_moment_matching = mean([moment_matching[i][1] for i in eachindex(moment_matching)])\n",
    "bottom_moment_matching = mean([moment_matching[i][2] for i in eachindex(moment_matching)])\n",
    "upper_moment_matching = mean([moment_matching[i][3] for i in eachindex(moment_matching)])\n",
    "\n",
    "mean_LHS = mean([LHS[i][1] for i in eachindex(LHS)])\n",
    "bottom_LHS = mean([LHS[i][2] for i in eachindex(LHS)])\n",
    "upper_LHS = mean([LHS[i][3] for i in eachindex(LHS)])\n",
    "\n",
    "length_normal = upper_elements-bottom_elements\n",
    "length_antithetic = upper_antithetic - bottom_antithetic\n",
    "length_quasi = upper_quasi-bottom_quasi\n",
    "length_moment_matching = upper_moment_matching - bottom_moment_matching\n",
    "length_LHS = upper_LHS-bottom_LHS\n",
    "\n",
    "println(\"basic mean : $mean_elements length: $length_normal\")\n",
    "println(\"antithetic mean : $mean_antithetic length antithetic: $length_antithetic\")\n",
    "println(\"quasi mean : $mean_quasi length quasi: $length_quasi\")\n",
    "println(\"moment matching mean : $mean_moment_matching length matching: $length_moment_matching\")\n",
    "println(\"LHS mean : $mean_LHS length LHS: $length_LHS\")\n"
   ]
  }
 ],
 "metadata": {
  "kernelspec": {
   "display_name": "Julia 1.8.2",
   "language": "julia",
   "name": "julia-1.8"
  },
  "language_info": {
   "file_extension": ".jl",
   "mimetype": "application/julia",
   "name": "julia",
   "version": "1.8.2"
  },
  "orig_nbformat": 4
 },
 "nbformat": 4,
 "nbformat_minor": 2
}
