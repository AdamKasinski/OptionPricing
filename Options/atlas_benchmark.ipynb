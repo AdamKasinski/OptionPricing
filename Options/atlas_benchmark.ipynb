{
 "cells": [
  {
   "cell_type": "code",
   "execution_count": null,
   "metadata": {},
   "outputs": [],
   "source": [
    "include(\"atlas_option.jl\")"
   ]
  },
  {
   "cell_type": "code",
   "execution_count": 63,
   "metadata": {},
   "outputs": [],
   "source": [
    "cov_matrix = [1.0 0.3 0.4; 0.3 1.0 0.1; 0.4 0.1 1.0] \n",
    "normal = [atlas_option_monte_carlo(10000,0.05,10,0.003,7.0,3,[10.0,10.0,10.0],[0.07,0.07,0.07],[0.01,0.01,0.01],cov_matrix,1,1,\"basic\") for i in 1:2]\n",
    "antithetic = [atlas_option_monte_carlo(10000,0.05,10,0.003,7.0,3,[10.0,10.0,10.0],[0.07,0.07,0.07],[0.01,0.01,0.01],cov_matrix,1,1,\"antithetic\") for i in 1:2]\n",
    "quasi = [atlas_option_monte_carlo(10000,0.05,10,0.003,7.0,3,[10.0,10.0,10.0],[0.07,0.07,0.07],[0.01,0.01,0.01],cov_matrix,1,1,\"quasi_monte_carlo\") for i in 1:2]\n",
    "moment_matching = [price_atlas_moment_matching(10000,0.05,10,0.003,7.0,3,[10.0,10.0,10.0],[0.07,0.07,0.07],[0.01,0.01,0.01],cov_matrix,1,1) for i in 1:2]\n",
    "LHS = [atlas_option_monte_carlo(10000,0.05,10,0.003,7.0,3,[10.0,10.0,10.0],[0.07,0.07,0.07],[0.01,0.01,0.01],cov_matrix,1,1,\"LHS\") for i in 1:2]\n",
    "\n",
    "mean_elements = mean([normal[i][1] for i in eachindex(normal)])\n",
    "bottom_elements = mean([normal[i][2] for i in eachindex(normal)])\n",
    "upper_elements = mean([normal[i][3] for i in eachindex(normal)])\n",
    "\n",
    "mean_antithetic = mean([antithetic[i][1] for i in eachindex(antithetic)])\n",
    "bottom_antithetic = mean([antithetic[i][2] for i in eachindex(antithetic)])\n",
    "upper_antithetic = mean([antithetic[i][3] for i in eachindex(antithetic)])\n",
    "\n",
    "mean_quasi = mean([quasi[i][1] for i in eachindex(quasi)])\n",
    "bottom_quasi = mean([quasi[i][2] for i in eachindex(quasi)])\n",
    "upper_quasi = mean([quasi[i][3] for i in eachindex(quasi)])\n",
    "\n",
    "mean_moment_matching = mean([moment_matching[i][1] for i in eachindex(moment_matching)])\n",
    "bottom_moment_matching = mean([moment_matching[i][2] for i in eachindex(moment_matching)])\n",
    "upper_moment_matching = mean([moment_matching[i][3] for i in eachindex(moment_matching)])\n",
    "\n",
    "mean_LHS = mean([LHS[i][1] for i in eachindex(LHS)])\n",
    "bottom_LHS = mean([LHS[i][2] for i in eachindex(LHS)])\n",
    "upper_LHS = mean([LHS[i][3] for i in eachindex(LHS)])\n",
    "\n",
    "length_normal = upper_elements-bottom_elements\n",
    "length_antithetic = upper_antithetic - bottom_antithetic\n",
    "length_quasi = upper_quasi-bottom_quasi\n",
    "length_moment_matching = upper_moment_matching - bottom_moment_matching\n",
    "length_LHS = upper_LHS-bottom_LHS\n",
    "\n",
    "println(\"basic mean : $mean_elements length: $length_normal\")\n",
    "println(\"antithetic mean : $mean_antithetic length antithetic: $length_antithetic\")\n",
    "println(\"quasi mean : $mean_quasi length quasi: $length_quasi\")\n",
    "println(\"moment matching mean : $mean_moment_matching length matching: $length_moment_matching\")\n",
    "println(\"LHS mean : $mean_LHS length LHS: $length_LHS\")\n"
   ]
  },
  {
   "cell_type": "code",
   "execution_count": 45,
   "metadata": {},
   "outputs": [
    {
     "data": {
      "text/plain": [
       "3.0004516866860795"
      ]
     },
     "metadata": {},
     "output_type": "display_data"
    }
   ],
   "source": [
    "mean_moment_matching"
   ]
  }
 ],
 "metadata": {
  "kernelspec": {
   "display_name": "Julia 1.8.2",
   "language": "julia",
   "name": "julia-1.8"
  },
  "language_info": {
   "file_extension": ".jl",
   "mimetype": "application/julia",
   "name": "julia",
   "version": "1.8.2"
  },
  "orig_nbformat": 4
 },
 "nbformat": 4,
 "nbformat_minor": 2
}
